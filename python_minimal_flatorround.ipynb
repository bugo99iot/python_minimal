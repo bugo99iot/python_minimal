{
 "cells": [
  {
   "cell_type": "code",
   "execution_count": 1,
   "metadata": {},
   "outputs": [
    {
     "name": "stdout",
     "output_type": "stream",
     "text": [
      "The world is flat!\n",
      "The world is round!\n",
      "The world is flat!\n",
      "The world is round!\n",
      "The world is flat!\n",
      "The world is flat!\n",
      "The world is flat!\n",
      "The world is round!\n",
      "The world is flat!\n",
      "The world is round!\n",
      "The world is flat!\n",
      "The world is round!\n",
      "The world is flat!\n",
      "The world is round!\n"
     ]
    }
   ],
   "source": [
    "import time, threading\n",
    "from random import randint\n",
    "\n",
    "def repeat():\n",
    "    n = randint(1,2)\n",
    "    if n == 1:\n",
    "        print(\"The world is round!\")\n",
    "    else:\n",
    "        print(\"The world is flat!\")\n",
    "    threading.Timer(1, repeat).start()\n",
    "\n",
    "repeat()"
   ]
  }
 ],
 "metadata": {
  "kernelspec": {
   "display_name": "Python 3",
   "language": "python",
   "name": "python3"
  },
  "language_info": {
   "codemirror_mode": {
    "name": "ipython",
    "version": 3
   },
   "file_extension": ".py",
   "mimetype": "text/x-python",
   "name": "python",
   "nbconvert_exporter": "python",
   "pygments_lexer": "ipython3",
   "version": "3.5.2"
  }
 },
 "nbformat": 4,
 "nbformat_minor": 2
}
